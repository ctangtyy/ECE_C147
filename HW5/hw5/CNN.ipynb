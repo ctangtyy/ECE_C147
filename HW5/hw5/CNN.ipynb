{
 "cells": [
  {
   "cell_type": "markdown",
   "metadata": {},
   "source": [
    "# Convolutional neural networks\n",
    "\n",
    "In this notebook, we'll put together our convolutional layers to implement a 3-layer CNN.  Then, we'll ask you to implement a CNN that can achieve > 65% validation error on CIFAR-10.\n",
    "\n",
    "CS231n has built a solid API for building these modular frameworks and training them, and we will use their very well implemented framework as opposed to \"reinventing the wheel.\"  This includes using their Solver, various utility functions, their layer structure, and their implementation of fast CNN layers.  This also includes nndl.fc_net, nndl.layers, and nndl.layer_utils.  As in prior assignments, we thank Serena Yeung & Justin Johnson for permission to use code written for the CS 231n class (cs231n.stanford.edu).  \n",
    "\n",
    "\n",
    "If you have not completed the Spatial BatchNorm Notebook, please see the following description from that notebook:\n",
    "\n",
    "Please copy and paste your prior implemented code from HW #4 to start this assignment.  If you did not correctly implement the layers in HW #4, you may collaborate with a classmate to use their layer implementations from HW #4.  You may also visit TA or Prof OH to correct your implementation.  \n",
    "\n",
    "You'll want to copy and paste from HW #4:\n",
    "    - layers.py for your FC network layers, as well as batchnorm and dropout.\n",
    "    - layer_utils.py for your combined FC network layers.\n",
    "    - optim.py for your optimizers.\n",
    "\n",
    "Be sure to place these in the `nndl/` directory so they're imported correctly.  Note, as announced in class, we will not be releasing our solutions."
   ]
  },
  {
   "cell_type": "code",
   "execution_count": 43,
   "metadata": {},
   "outputs": [
    {
     "name": "stdout",
     "output_type": "stream",
     "text": [
      "The autoreload extension is already loaded. To reload it, use:\n",
      "  %reload_ext autoreload\n"
     ]
    }
   ],
   "source": [
    "# As usual, a bit of setup\n",
    "\n",
    "import numpy as np\n",
    "import matplotlib.pyplot as plt\n",
    "from nndl.cnn import *\n",
    "from cs231n.data_utils import get_CIFAR10_data\n",
    "from cs231n.gradient_check import eval_numerical_gradient_array, eval_numerical_gradient\n",
    "from nndl.layers import *\n",
    "from nndl.conv_layers import *\n",
    "from cs231n.fast_layers import *\n",
    "from cs231n.solver import Solver\n",
    "\n",
    "%matplotlib inline\n",
    "plt.rcParams['figure.figsize'] = (10.0, 8.0) # set default size of plots\n",
    "plt.rcParams['image.interpolation'] = 'nearest'\n",
    "plt.rcParams['image.cmap'] = 'gray'\n",
    "\n",
    "# for auto-reloading external modules\n",
    "# see http://stackoverflow.com/questions/1907993/autoreload-of-modules-in-ipython\n",
    "%load_ext autoreload\n",
    "%autoreload 2\n",
    "\n",
    "def rel_error(x, y):\n",
    "  \"\"\" returns relative error \"\"\"\n",
    "  return np.max(np.abs(x - y) / (np.maximum(1e-8, np.abs(x) + np.abs(y))))"
   ]
  },
  {
   "cell_type": "code",
   "execution_count": 45,
   "metadata": {},
   "outputs": [
    {
     "name": "stdout",
     "output_type": "stream",
     "text": [
      "X_train: (49000, 3, 32, 32) \n",
      "y_train: (49000,) \n",
      "X_val: (1000, 3, 32, 32) \n",
      "y_val: (1000,) \n",
      "X_test: (1000, 3, 32, 32) \n",
      "y_test: (1000,) \n"
     ]
    }
   ],
   "source": [
    "# Load the (preprocessed) CIFAR10 data.\n",
    "\n",
    "data = get_CIFAR10_data()\n",
    "for k in data.keys():\n",
    "  print('{}: {} '.format(k, data[k].shape))"
   ]
  },
  {
   "cell_type": "markdown",
   "metadata": {},
   "source": [
    "## Three layer CNN\n",
    "\n",
    "In this notebook, you will implement a three layer CNN.  The `ThreeLayerConvNet` class is in `nndl/cnn.py`.  You'll need to modify that code for this section, including the initialization, as well as the calculation of the loss and gradients.  You should be able to use the building blocks you have either earlier coded or that we have provided.  Be sure to use the fast layers.\n",
    "\n",
    "The architecture of this CNN will be:\n",
    "\n",
    "conv - relu - 2x2 max pool - affine - relu - affine - softmax\n",
    "\n",
    "We won't use batchnorm yet.  You've also done enough of these to know how to debug; use the cells below.\n",
    "\n",
    "Note: As we are implementing several layers CNN networks. The gradient error can be expected for the `eval_numerical_gradient()` function. If your `W1 max relative error` and `W2 max relative error` are around or below 0.01, they should be acceptable. Other errors should be less than 1e-5. "
   ]
  },
  {
   "cell_type": "code",
   "execution_count": 47,
   "metadata": {},
   "outputs": [
    {
     "name": "stdout",
     "output_type": "stream",
     "text": [
      "W1 max relative error: 0.00010852821359486105\n",
      "W2 max relative error: 0.010412591269013187\n",
      "W3 max relative error: 4.068535589905829e-05\n",
      "b1 max relative error: 1.0431328216629674e-05\n",
      "b2 max relative error: 4.867010904919526e-07\n",
      "b3 max relative error: 1.5226219759562686e-09\n"
     ]
    }
   ],
   "source": [
    "num_inputs = 2\n",
    "input_dim = (3, 16, 16)\n",
    "reg = 0.0\n",
    "num_classes = 10\n",
    "X = np.random.randn(num_inputs, *input_dim)\n",
    "y = np.random.randint(num_classes, size=num_inputs)\n",
    "\n",
    "model = ThreeLayerConvNet(num_filters=3, filter_size=3,\n",
    "                          input_dim=input_dim, hidden_dim=7,\n",
    "                          dtype=np.float64)\n",
    "loss, grads = model.loss(X, y)\n",
    "for param_name in sorted(grads):\n",
    "    f = lambda _: model.loss(X, y)[0]\n",
    "    param_grad_num = eval_numerical_gradient(f, model.params[param_name], verbose=False, h=1e-6)\n",
    "    e = rel_error(param_grad_num, grads[param_name])\n",
    "    print('{} max relative error: {}'.format(param_name, rel_error(param_grad_num, grads[param_name])))"
   ]
  },
  {
   "cell_type": "markdown",
   "metadata": {},
   "source": [
    "### Overfit small dataset\n",
    "\n",
    "To check your CNN implementation, let's overfit a small dataset."
   ]
  },
  {
   "cell_type": "code",
   "execution_count": 51,
   "metadata": {},
   "outputs": [
    {
     "name": "stdout",
     "output_type": "stream",
     "text": [
      "(Iteration 1 / 20) loss: 2.338677\n",
      "(Epoch 0 / 10) train acc: 0.220000; val_acc: 0.128000\n",
      "(Iteration 2 / 20) loss: 3.345180\n",
      "(Epoch 1 / 10) train acc: 0.380000; val_acc: 0.148000\n",
      "(Iteration 3 / 20) loss: 2.385010\n",
      "(Iteration 4 / 20) loss: 2.224656\n",
      "(Epoch 2 / 10) train acc: 0.300000; val_acc: 0.142000\n",
      "(Iteration 5 / 20) loss: 2.444555\n",
      "(Iteration 6 / 20) loss: 2.146446\n",
      "(Epoch 3 / 10) train acc: 0.390000; val_acc: 0.144000\n",
      "(Iteration 7 / 20) loss: 1.704748\n",
      "(Iteration 8 / 20) loss: 1.808097\n",
      "(Epoch 4 / 10) train acc: 0.520000; val_acc: 0.164000\n",
      "(Iteration 9 / 20) loss: 2.104152\n",
      "(Iteration 10 / 20) loss: 1.358138\n",
      "(Epoch 5 / 10) train acc: 0.580000; val_acc: 0.158000\n",
      "(Iteration 11 / 20) loss: 1.300434\n",
      "(Iteration 12 / 20) loss: 1.228642\n",
      "(Epoch 6 / 10) train acc: 0.660000; val_acc: 0.163000\n",
      "(Iteration 13 / 20) loss: 1.221502\n",
      "(Iteration 14 / 20) loss: 1.038735\n",
      "(Epoch 7 / 10) train acc: 0.720000; val_acc: 0.159000\n",
      "(Iteration 15 / 20) loss: 0.912560\n",
      "(Iteration 16 / 20) loss: 0.916493\n",
      "(Epoch 8 / 10) train acc: 0.820000; val_acc: 0.194000\n",
      "(Iteration 17 / 20) loss: 0.452047\n",
      "(Iteration 18 / 20) loss: 0.671948\n",
      "(Epoch 9 / 10) train acc: 0.830000; val_acc: 0.195000\n",
      "(Iteration 19 / 20) loss: 0.520446\n",
      "(Iteration 20 / 20) loss: 0.769077\n",
      "(Epoch 10 / 10) train acc: 0.880000; val_acc: 0.203000\n"
     ]
    }
   ],
   "source": [
    "num_train = 100\n",
    "small_data = {\n",
    "  'X_train': data['X_train'][:num_train],\n",
    "  'y_train': data['y_train'][:num_train],\n",
    "  'X_val': data['X_val'],\n",
    "  'y_val': data['y_val'],\n",
    "}\n",
    "\n",
    "model = ThreeLayerConvNet(weight_scale=1e-2)\n",
    "\n",
    "solver = Solver(model, small_data,\n",
    "                num_epochs=10, batch_size=50,\n",
    "                update_rule='adam',\n",
    "                optim_config={\n",
    "                  'learning_rate': 1e-3,\n",
    "                },\n",
    "                verbose=True, print_every=1)\n",
    "solver.train()"
   ]
  },
  {
   "cell_type": "code",
   "execution_count": 52,
   "metadata": {},
   "outputs": [
    {
     "data": {
      "image/png": "[encoded data removed]",
      "text/plain": [
       "<Figure size 1000x800 with 2 Axes>"
      ]
     },
     "metadata": {},
     "output_type": "display_data"
    }
   ],
   "source": [
    "plt.subplot(2, 1, 1)\n",
    "plt.plot(solver.loss_history, 'o')\n",
    "plt.xlabel('iteration')\n",
    "plt.ylabel('loss')\n",
    "\n",
    "plt.subplot(2, 1, 2)\n",
    "plt.plot(solver.train_acc_history, '-o')\n",
    "plt.plot(solver.val_acc_history, '-o')\n",
    "plt.legend(['train', 'val'], loc='upper left')\n",
    "plt.xlabel('epoch')\n",
    "plt.ylabel('accuracy')\n",
    "plt.show()"
   ]
  },
  {
   "cell_type": "markdown",
   "metadata": {},
   "source": [
    "## Train the network\n",
    "\n",
    "Now we train the 3 layer CNN on CIFAR-10 and assess its accuracy."
   ]
  },
  {
   "cell_type": "code",
   "execution_count": 54,
   "metadata": {},
   "outputs": [
    {
     "name": "stdout",
     "output_type": "stream",
     "text": [
      "(Iteration 1 / 980) loss: 2.304722\n",
      "(Epoch 0 / 1) train acc: 0.108000; val_acc: 0.102000\n",
      "(Iteration 21 / 980) loss: 2.109824\n",
      "(Iteration 41 / 980) loss: 2.063419\n",
      "(Iteration 61 / 980) loss: 1.831345\n",
      "(Iteration 81 / 980) loss: 1.814290\n",
      "(Iteration 101 / 980) loss: 1.755108\n",
      "(Iteration 121 / 980) loss: 1.987110\n",
      "(Iteration 141 / 980) loss: 1.897018\n",
      "(Iteration 161 / 980) loss: 1.690577\n",
      "(Iteration 181 / 980) loss: 1.597991\n",
      "(Iteration 201 / 980) loss: 1.673956\n",
      "(Iteration 221 / 980) loss: 1.900232\n",
      "(Iteration 241 / 980) loss: 1.664683\n",
      "(Iteration 261 / 980) loss: 2.000050\n",
      "(Iteration 281 / 980) loss: 1.882632\n",
      "(Iteration 301 / 980) loss: 1.654336\n",
      "(Iteration 321 / 980) loss: 1.912904\n",
      "(Iteration 341 / 980) loss: 1.461951\n",
      "(Iteration 361 / 980) loss: 2.141363\n",
      "(Iteration 381 / 980) loss: 1.732332\n",
      "(Iteration 401 / 980) loss: 1.536433\n",
      "(Iteration 421 / 980) loss: 1.740040\n",
      "(Iteration 441 / 980) loss: 2.041982\n",
      "(Iteration 461 / 980) loss: 1.785856\n",
      "(Iteration 481 / 980) loss: 1.475595\n",
      "(Iteration 501 / 980) loss: 1.500443\n",
      "(Iteration 521 / 980) loss: 1.885525\n",
      "(Iteration 541 / 980) loss: 1.804075\n",
      "(Iteration 561 / 980) loss: 1.497636\n",
      "(Iteration 581 / 980) loss: 1.687978\n",
      "(Iteration 601 / 980) loss: 1.597039\n",
      "(Iteration 621 / 980) loss: 1.682585\n",
      "(Iteration 641 / 980) loss: 1.733066\n",
      "(Iteration 661 / 980) loss: 1.816733\n",
      "(Iteration 681 / 980) loss: 1.797447\n",
      "(Iteration 701 / 980) loss: 1.524239\n",
      "(Iteration 721 / 980) loss: 1.682606\n",
      "(Iteration 741 / 980) loss: 1.512069\n",
      "(Iteration 761 / 980) loss: 1.691373\n",
      "(Iteration 781 / 980) loss: 1.445274\n",
      "(Iteration 801 / 980) loss: 1.628165\n",
      "(Iteration 821 / 980) loss: 1.327850\n",
      "(Iteration 841 / 980) loss: 1.690517\n",
      "(Iteration 861 / 980) loss: 1.622303\n",
      "(Iteration 881 / 980) loss: 1.612131\n",
      "(Iteration 901 / 980) loss: 1.527980\n",
      "(Iteration 921 / 980) loss: 1.321658\n",
      "(Iteration 941 / 980) loss: 1.630335\n",
      "(Iteration 961 / 980) loss: 1.442380\n",
      "(Epoch 1 / 1) train acc: 0.443000; val_acc: 0.447000\n"
     ]
    }
   ],
   "source": [
    "model = ThreeLayerConvNet(weight_scale=0.001, hidden_dim=500, reg=0.001)\n",
    "\n",
    "solver = Solver(model, data,\n",
    "                num_epochs=1, batch_size=50,\n",
    "                update_rule='adam',\n",
    "                optim_config={\n",
    "                  'learning_rate': 1e-3,\n",
    "                },\n",
    "                verbose=True, print_every=20)\n",
    "solver.train()"
   ]
  },
  {
   "cell_type": "markdown",
   "metadata": {},
   "source": [
    "# Get > 65% validation accuracy on CIFAR-10.\n",
    "\n",
    "In the last part of the assignment, we'll now ask you to train a CNN to get better than 65% validation accuracy on CIFAR-10.\n",
    "\n",
    "### Things you should try:\n",
    "- Filter size: Above we used 7x7; but VGGNet and onwards showed stacks of 3x3 filters are good.  \n",
    "- Number of filters: Above we used 32 filters. Do more or fewer do better?\n",
    "- Batch normalization: Try adding spatial batch normalization after convolution layers and vanilla batch normalization aafter affine layers. Do your networks train faster?\n",
    "- Network architecture: Can a deeper CNN do better?  Consider these architectures:\n",
    "    - [conv-relu-pool]xN - conv - relu - [affine]xM - [softmax or SVM]\n",
    "    - [conv-relu-pool]XN - [affine]XM - [softmax or SVM]\n",
    "    - [conv-relu-conv-relu-pool]xN - [affine]xM - [softmax or SVM]\n",
    "\n",
    "### Tips for training\n",
    "For each network architecture that you try, you should tune the learning rate and regularization strength. When doing this there are a couple important things to keep in mind:\n",
    "\n",
    "- If the parameters are working well, you should see improvement within a few hundred iterations\n",
    "- Remember the coarse-to-fine approach for hyperparameter tuning: start by testing a large range of hyperparameters for just a few training iterations to find the combinations of parameters that are working at all.\n",
    "- Once you have found some sets of parameters that seem to work, search more finely around these parameters. You may need to train for more epochs."
   ]
  },
  {
   "cell_type": "code",
   "execution_count": 56,
   "metadata": {},
   "outputs": [
    {
     "name": "stdout",
     "output_type": "stream",
     "text": [
      "(Iteration 1 / 735) loss: 2.302588\n",
      "(Epoch 0 / 15) train acc: 0.101000; val_acc: 0.106000\n",
      "(Epoch 1 / 15) train acc: 0.420000; val_acc: 0.446000\n",
      "(Epoch 2 / 15) train acc: 0.504000; val_acc: 0.513000\n",
      "(Epoch 3 / 15) train acc: 0.585000; val_acc: 0.566000\n",
      "(Epoch 4 / 15) train acc: 0.607000; val_acc: 0.565000\n",
      "(Epoch 5 / 15) train acc: 0.629000; val_acc: 0.575000\n",
      "(Epoch 6 / 15) train acc: 0.659000; val_acc: 0.605000\n",
      "(Epoch 7 / 15) train acc: 0.665000; val_acc: 0.616000\n",
      "(Epoch 8 / 15) train acc: 0.664000; val_acc: 0.616000\n",
      "(Epoch 9 / 15) train acc: 0.682000; val_acc: 0.623000\n",
      "(Epoch 10 / 15) train acc: 0.674000; val_acc: 0.619000\n",
      "(Epoch 11 / 15) train acc: 0.712000; val_acc: 0.626000\n",
      "(Epoch 12 / 15) train acc: 0.705000; val_acc: 0.615000\n",
      "(Epoch 13 / 15) train acc: 0.731000; val_acc: 0.625000\n",
      "(Epoch 14 / 15) train acc: 0.723000; val_acc: 0.620000\n",
      "(Epoch 15 / 15) train acc: 0.751000; val_acc: 0.664000\n"
     ]
    }
   ],
   "source": [
    "# ================================================================ #\n",
    "# YOUR CODE HERE:\n",
    "#   Implement a CNN to achieve greater than 65% validation accuracy\n",
    "#   on CIFAR-10.\n",
    "# ================================================================ #\n",
    "model = ThreeLayerConvNet(weight_scale=0.001, num_filters=64, filter_size=3)\n",
    "\n",
    "solver = Solver(model, data,\n",
    "    num_epochs=15, batch_size=1000,\n",
    "    update_rule='adam',\n",
    "    optim_config={\n",
    "    'learning_rate': 2e-3,\n",
    "    },\n",
    "    verbose=True, print_every=10000000)\n",
    "solver.train()\n",
    "# ================================================================ #\n",
    "# END YOUR CODE HERE\n",
    "# ================================================================ #\n"
   ]
  },
  {
   "cell_type": "code",
   "execution_count": null,
   "metadata": {},
   "outputs": [],
   "source": []
  }
 ],
 "metadata": {
  "kernelspec": {
   "display_name": "Python [conda env:base] *",
   "language": "python",
   "name": "conda-base-py"
  },
  "language_info": {
   "codemirror_mode": {
    "name": "ipython",
    "version": 3
   },
   "file_extension": ".py",
   "mimetype": "text/x-python",
   "name": "python",
   "nbconvert_exporter": "python",
   "pygments_lexer": "ipython3",
   "version": "3.12.2"
  }
 },
 "nbformat": 4,
 "nbformat_minor": 4
}
