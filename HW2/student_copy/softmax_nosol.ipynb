{
 "cells": [
  {
   "cell_type": "markdown",
   "metadata": {},
   "source": [
    "## This is the softmax workbook for ECE C147/C247 Assignment #2\n",
    "\n",
    "Please follow the notebook linearly to implement a softmax classifier.\n",
    "\n",
    "Please print out the workbook entirely when completed.\n",
    "\n",
    "The goal of this workbook is to give you experience with training a softmax classifier."
   ]
  },
  {
   "cell_type": "code",
   "execution_count": 151,
   "metadata": {},
   "outputs": [
    {
     "name": "stdout",
     "output_type": "stream",
     "text": [
      "The autoreload extension is already loaded. To reload it, use:\n",
      "  %reload_ext autoreload\n"
     ]
    }
   ],
   "source": [
    "import random\n",
    "import numpy as np\n",
    "from utils.data_utils import load_CIFAR10\n",
    "import matplotlib.pyplot as plt\n",
    "\n",
    "%matplotlib inline\n",
    "%load_ext autoreload\n",
    "%autoreload 2"
   ]
  },
  {
   "cell_type": "code",
   "execution_count": 152,
   "metadata": {},
   "outputs": [
    {
     "name": "stdout",
     "output_type": "stream",
     "text": [
      "Train data shape:  (49000, 3073)\n",
      "Train labels shape:  (49000,)\n",
      "Validation data shape:  (1000, 3073)\n",
      "Validation labels shape:  (1000,)\n",
      "Test data shape:  (1000, 3073)\n",
      "Test labels shape:  (1000,)\n",
      "dev data shape:  (500, 3073)\n",
      "dev labels shape:  (500,)\n"
     ]
    }
   ],
   "source": [
    "def get_CIFAR10_data(num_training=49000, num_validation=1000, num_test=1000, num_dev=500):\n",
    "    \"\"\"\n",
    "    Load the CIFAR-10 dataset from disk and perform preprocessing to prepare\n",
    "    it for the linear classifier. These are the same steps as we used for the\n",
    "    SVM, but condensed to a single function.  \n",
    "    \"\"\"\n",
    "    # Load the raw CIFAR-10 data\n",
    "    cifar10_dir = '/Users/ctang/Desktop/ECE_C147/HW2/cifar-10-batches-py' # You need to update this line\n",
    "    X_train, y_train, X_test, y_test = load_CIFAR10(cifar10_dir)\n",
    "    \n",
    "    # subsample the data\n",
    "    mask = list(range(num_training, num_training + num_validation))\n",
    "    X_val = X_train[mask]\n",
    "    y_val = y_train[mask]\n",
    "    mask = list(range(num_training))\n",
    "    X_train = X_train[mask]\n",
    "    y_train = y_train[mask]\n",
    "    mask = list(range(num_test))\n",
    "    X_test = X_test[mask]\n",
    "    y_test = y_test[mask]\n",
    "    mask = np.random.choice(num_training, num_dev, replace=False)\n",
    "    X_dev = X_train[mask]\n",
    "    y_dev = y_train[mask]\n",
    "    \n",
    "    # Preprocessing: reshape the image data into rows\n",
    "    X_train = np.reshape(X_train, (X_train.shape[0], -1))\n",
    "    X_val = np.reshape(X_val, (X_val.shape[0], -1))\n",
    "    X_test = np.reshape(X_test, (X_test.shape[0], -1))\n",
    "    X_dev = np.reshape(X_dev, (X_dev.shape[0], -1))\n",
    "    \n",
    "    # Normalize the data: subtract the mean image\n",
    "    mean_image = np.mean(X_train, axis = 0)\n",
    "    X_train -= mean_image\n",
    "    X_val -= mean_image\n",
    "    X_test -= mean_image\n",
    "    X_dev -= mean_image\n",
    "    \n",
    "    # add bias dimension and transform into columns\n",
    "    X_train = np.hstack([X_train, np.ones((X_train.shape[0], 1))])\n",
    "    X_val = np.hstack([X_val, np.ones((X_val.shape[0], 1))])\n",
    "    X_test = np.hstack([X_test, np.ones((X_test.shape[0], 1))])\n",
    "    X_dev = np.hstack([X_dev, np.ones((X_dev.shape[0], 1))])\n",
    "    \n",
    "    return X_train, y_train, X_val, y_val, X_test, y_test, X_dev, y_dev\n",
    "\n",
    "\n",
    "# Invoke the above function to get our data.\n",
    "X_train, y_train, X_val, y_val, X_test, y_test, X_dev, y_dev = get_CIFAR10_data()\n",
    "print('Train data shape: ', X_train.shape)\n",
    "print('Train labels shape: ', y_train.shape)\n",
    "print('Validation data shape: ', X_val.shape)\n",
    "print('Validation labels shape: ', y_val.shape)\n",
    "print('Test data shape: ', X_test.shape)\n",
    "print('Test labels shape: ', y_test.shape)\n",
    "print('dev data shape: ', X_dev.shape)\n",
    "print('dev labels shape: ', y_dev.shape)"
   ]
  },
  {
   "cell_type": "markdown",
   "metadata": {},
   "source": [
    "## Training a softmax classifier.\n",
    "\n",
    "The following cells will take you through building a softmax classifier.  You will implement its loss function, then subsequently train it with gradient descent.  Finally, you will choose the learning rate of gradient descent to optimize its classification performance."
   ]
  },
  {
   "cell_type": "code",
   "execution_count": 154,
   "metadata": {},
   "outputs": [],
   "source": [
    "from nndl import Softmax"
   ]
  },
  {
   "cell_type": "code",
   "execution_count": 155,
   "metadata": {},
   "outputs": [],
   "source": [
    "# Declare an instance of the Softmax class.  \n",
    "# Weights are initialized to a random value.\n",
    "# Note, to keep people's first solutions consistent, we are going to use a random seed.\n",
    "\n",
    "np.random.seed(1)\n",
    "\n",
    "num_classes = len(np.unique(y_train))\n",
    "num_features = X_train.shape[1]\n",
    "\n",
    "softmax = Softmax(dims=[num_classes, num_features])"
   ]
  },
  {
   "cell_type": "markdown",
   "metadata": {},
   "source": [
    "#### Softmax loss"
   ]
  },
  {
   "cell_type": "code",
   "execution_count": 157,
   "metadata": {},
   "outputs": [],
   "source": [
    "## Implement the loss function of the softmax using a for loop over\n",
    "#  the number of examples\n",
    "\n",
    "loss = softmax.loss(X_train, y_train)"
   ]
  },
  {
   "cell_type": "code",
   "execution_count": 158,
   "metadata": {},
   "outputs": [
    {
     "name": "stdout",
     "output_type": "stream",
     "text": [
      "2.327760702804897\n"
     ]
    }
   ],
   "source": [
    "print(loss)"
   ]
  },
  {
   "cell_type": "markdown",
   "metadata": {},
   "source": [
    "## Question: \n",
    "\n",
    "You'll notice the loss returned by the softmax is about 2.3 (if implemented correctly).  Why does this make sense?"
   ]
  },
  {
   "cell_type": "markdown",
   "metadata": {},
   "source": [
    "## Answer:\n",
    "\n",
    "Since there is no training initially done on the softmax, the weights are thus initialized to 0. The value of teh loss according to the softmax function would thus be: \n",
    "-1/m*log((1/10)^m) = log(10)\n",
    "If we calculate log(10) this is approximately 2.3."
   ]
  },
  {
   "cell_type": "markdown",
   "metadata": {},
   "source": [
    "#### Softmax gradient"
   ]
  },
  {
   "cell_type": "code",
   "execution_count": 162,
   "metadata": {},
   "outputs": [
    {
     "name": "stdout",
     "output_type": "stream",
     "text": [
      "numerical: 0.065794 analytic: 0.065794, relative error: 3.978329e-07\n",
      "numerical: 1.995329 analytic: 1.995328, relative error: 5.845017e-09\n",
      "numerical: -0.662157 analytic: -0.662157, relative error: 3.382267e-08\n",
      "numerical: 3.587894 analytic: 3.587894, relative error: 1.091485e-09\n",
      "numerical: 0.128995 analytic: 0.128995, relative error: 2.967061e-07\n",
      "numerical: 1.805927 analytic: 1.805927, relative error: 3.963822e-09\n",
      "numerical: -0.838307 analytic: -0.838307, relative error: 2.229423e-08\n",
      "numerical: 0.713717 analytic: 0.713717, relative error: 2.178844e-08\n",
      "numerical: 2.445748 analytic: 2.445748, relative error: 1.080725e-08\n",
      "numerical: -1.755214 analytic: -1.755214, relative error: 2.625190e-08\n"
     ]
    }
   ],
   "source": [
    "## Calculate the gradient of the softmax loss in the Softmax class.\n",
    "# For convenience, we'll write one function that computes the loss\n",
    "#   and gradient together, softmax.loss_and_grad(X, y)\n",
    "# You may copy and paste your loss code from softmax.loss() here, and then\n",
    "#   use the appropriate intermediate values to calculate the gradient.\n",
    "\n",
    "loss, grad = softmax.loss_and_grad(X_dev,y_dev)\n",
    "\n",
    "# Compare your gradient to a gradient check we wrote. \n",
    "# You should see relative gradient errors on the order of 1e-07 or less if you implemented the gradient correctly.\n",
    "softmax.grad_check_sparse(X_dev, y_dev, grad)"
   ]
  },
  {
   "cell_type": "markdown",
   "metadata": {},
   "source": [
    "## A vectorized version of Softmax\n",
    "\n",
    "To speed things up, we will vectorize the loss and gradient calculations.  This will be helpful for stochastic gradient descent."
   ]
  },
  {
   "cell_type": "code",
   "execution_count": 164,
   "metadata": {},
   "outputs": [],
   "source": [
    "import time"
   ]
  },
  {
   "cell_type": "code",
   "execution_count": 165,
   "metadata": {},
   "outputs": [
    {
     "name": "stdout",
     "output_type": "stream",
     "text": [
      "Normal loss / grad_norm: 2.3394135932092235 / 316.52019837143916 computed in 0.08342981338500977s\n",
      "Vectorized loss / grad: 2.339413593209225 / 313.92404339191137 computed in 0.019639968872070312s\n",
      "difference in loss / grad: -1.3322676295501878e-15 /124.94010527006971 \n"
     ]
    }
   ],
   "source": [
    "## Implement softmax.fast_loss_and_grad which calculates the loss and gradient\n",
    "#    WITHOUT using any for loops.  \n",
    "\n",
    "# Standard loss and gradient\n",
    "tic = time.time()\n",
    "loss, grad = softmax.loss_and_grad(X_dev, y_dev)\n",
    "toc = time.time()\n",
    "print('Normal loss / grad_norm: {} / {} computed in {}s'.format(loss, np.linalg.norm(grad, 'fro'), toc - tic))\n",
    "\n",
    "tic = time.time()\n",
    "loss_vectorized, grad_vectorized = softmax.fast_loss_and_grad(X_dev, y_dev)\n",
    "toc = time.time()\n",
    "print('Vectorized loss / grad: {} / {} computed in {}s'.format(loss_vectorized, np.linalg.norm(grad_vectorized, 'fro'), toc - tic))\n",
    "\n",
    "# The losses should match but your vectorized implementation should be much faster.\n",
    "print('difference in loss / grad: {} /{} '.format(loss - loss_vectorized, np.linalg.norm(grad - grad_vectorized)))\n",
    "\n",
    "# You should notice a speedup with the same output."
   ]
  },
  {
   "cell_type": "markdown",
   "metadata": {},
   "source": [
    "## Stochastic gradient descent\n",
    "\n",
    "We now implement stochastic gradient descent.  This uses the same principles of gradient descent we discussed in class, however, it calculates the gradient by only using examples from a subset of the training set (so each gradient calculation is faster)."
   ]
  },
  {
   "cell_type": "code",
   "execution_count": 189,
   "metadata": {},
   "outputs": [
    {
     "name": "stdout",
     "output_type": "stream",
     "text": [
      "iteration 0 / 1500: loss 2.335329533206115\n",
      "iteration 100 / 1500: loss 2.0748127239245715\n",
      "iteration 200 / 1500: loss 1.9590764078266198\n",
      "iteration 300 / 1500: loss 1.8939027531776589\n",
      "iteration 400 / 1500: loss 1.89399270696175\n",
      "iteration 500 / 1500: loss 1.867077234226302\n",
      "iteration 600 / 1500: loss 1.7879467849732493\n",
      "iteration 700 / 1500: loss 1.9454881111874278\n",
      "iteration 800 / 1500: loss 1.9144821020559457\n",
      "iteration 900 / 1500: loss 1.8456003612977296\n",
      "iteration 1000 / 1500: loss 1.7993233476102852\n",
      "iteration 1100 / 1500: loss 1.7629753346623744\n",
      "iteration 1200 / 1500: loss 1.8051228568459141\n",
      "iteration 1300 / 1500: loss 1.8139940226314408\n",
      "iteration 1400 / 1500: loss 1.8680936110335444\n",
      "That took 3.854673147201538s\n"
     ]
    },
    {
     "data": {
      "image/png": "[encoded data removed]",
      "text/plain": [
       "<Figure size 640x480 with 1 Axes>"
      ]
     },
     "metadata": {},
     "output_type": "display_data"
    }
   ],
   "source": [
    "# Implement softmax.train() by filling in the code to extract a batch of data\n",
    "# and perform the gradient step.\n",
    "import time\n",
    "\n",
    "\n",
    "tic = time.time()\n",
    "loss_hist = softmax.train(X_train, y_train, learning_rate=1e-7, num_iters=1500,verbose=True)\n",
    "toc = time.time()\n",
    "print('That took {}s'.format(toc - tic))\n",
    "\n",
    "plt.plot(loss_hist)\n",
    "plt.xlabel('Iteration number')\n",
    "plt.ylabel('Loss value')\n",
    "plt.show()"
   ]
  },
  {
   "cell_type": "markdown",
   "metadata": {},
   "source": [
    "### Evaluate the performance of the trained softmax classifier on the validation data."
   ]
  },
  {
   "cell_type": "code",
   "execution_count": 206,
   "metadata": {},
   "outputs": [
    {
     "name": "stdout",
     "output_type": "stream",
     "text": [
      "training accuracy: 0.38157142857142856\n",
      "validation accuracy: 0.386\n"
     ]
    }
   ],
   "source": [
    "## Implement softmax.predict() and use it to compute the training and testing error.\n",
    "\n",
    "y_train_pred = softmax.predict(X_train)\n",
    "print('training accuracy: {}'.format(np.mean(np.equal(y_train,y_train_pred), )))\n",
    "y_val_pred = softmax.predict(X_val)\n",
    "print('validation accuracy: {}'.format(np.mean(np.equal(y_val, y_val_pred)), ))"
   ]
  },
  {
   "cell_type": "markdown",
   "metadata": {},
   "source": [
    "## Optimize the softmax classifier"
   ]
  },
  {
   "cell_type": "code",
   "execution_count": 239,
   "metadata": {},
   "outputs": [
    {
     "data": {
      "text/plain": [
       "2.220446049250313e-16"
      ]
     },
     "execution_count": 239,
     "metadata": {},
     "output_type": "execute_result"
    }
   ],
   "source": [
    "np.finfo(float).eps"
   ]
  },
  {
   "cell_type": "code",
   "execution_count": 241,
   "metadata": {},
   "outputs": [
    {
     "name": "stdout",
     "output_type": "stream",
     "text": [
      "[1.00000000e+02 1.23284674e+01 1.51991108e+00 1.87381742e-01\n",
      " 2.31012970e-02 2.84803587e-03 3.51119173e-04 4.32876128e-05\n",
      " 5.33669923e-06 6.57933225e-07 8.11130831e-08 1.00000000e-08]\n",
      "iteration 0 / 1500: loss 2.3662239309805724\n",
      "iteration 100 / 1500: loss inf\n",
      "iteration 200 / 1500: loss inf\n",
      "iteration 300 / 1500: loss inf\n",
      "iteration 400 / 1500: loss inf\n",
      "iteration 500 / 1500: loss inf\n",
      "iteration 600 / 1500: loss inf\n",
      "iteration 700 / 1500: loss inf\n",
      "iteration 800 / 1500: loss inf\n",
      "iteration 900 / 1500: loss inf\n",
      "iteration 1000 / 1500: loss inf\n",
      "iteration 1100 / 1500: loss inf\n",
      "iteration 1200 / 1500: loss inf\n",
      "iteration 1300 / 1500: loss inf\n",
      "iteration 1400 / 1500: loss inf\n",
      "iteration 0 / 1500: loss 2.415042735354712\n",
      "iteration 100 / 1500: loss inf\n",
      "iteration 200 / 1500: loss inf\n",
      "iteration 300 / 1500: loss inf\n",
      "iteration 400 / 1500: loss inf\n",
      "iteration 500 / 1500: loss inf\n",
      "iteration 600 / 1500: loss inf\n",
      "iteration 700 / 1500: loss inf\n",
      "iteration 800 / 1500: loss inf\n",
      "iteration 900 / 1500: loss inf\n",
      "iteration 1000 / 1500: loss inf\n",
      "iteration 1100 / 1500: loss inf\n",
      "iteration 1200 / 1500: loss inf\n",
      "iteration 1300 / 1500: loss inf\n",
      "iteration 1400 / 1500: loss inf\n",
      "iteration 0 / 1500: loss 2.333102134903881\n",
      "iteration 100 / 1500: loss inf\n",
      "iteration 200 / 1500: loss inf\n",
      "iteration 300 / 1500: loss inf\n",
      "iteration 400 / 1500: loss inf\n",
      "iteration 500 / 1500: loss inf\n",
      "iteration 600 / 1500: loss inf\n",
      "iteration 700 / 1500: loss inf\n",
      "iteration 800 / 1500: loss inf\n",
      "iteration 900 / 1500: loss inf\n",
      "iteration 1000 / 1500: loss inf\n",
      "iteration 1100 / 1500: loss inf\n",
      "iteration 1200 / 1500: loss inf\n",
      "iteration 1300 / 1500: loss inf\n",
      "iteration 1400 / 1500: loss inf\n",
      "iteration 0 / 1500: loss 2.3455880799823756\n",
      "iteration 100 / 1500: loss inf\n",
      "iteration 200 / 1500: loss inf\n",
      "iteration 300 / 1500: loss inf\n",
      "iteration 400 / 1500: loss inf\n",
      "iteration 500 / 1500: loss inf\n",
      "iteration 600 / 1500: loss inf\n",
      "iteration 700 / 1500: loss inf\n",
      "iteration 800 / 1500: loss inf\n",
      "iteration 900 / 1500: loss inf\n",
      "iteration 1000 / 1500: loss inf\n",
      "iteration 1100 / 1500: loss inf\n",
      "iteration 1200 / 1500: loss inf\n",
      "iteration 1300 / 1500: loss inf\n",
      "iteration 1400 / 1500: loss inf\n",
      "iteration 0 / 1500: loss 2.350352790795736\n",
      "iteration 100 / 1500: loss inf\n",
      "iteration 200 / 1500: loss inf\n",
      "iteration 300 / 1500: loss inf\n",
      "iteration 400 / 1500: loss inf\n",
      "iteration 500 / 1500: loss inf\n",
      "iteration 600 / 1500: loss inf\n",
      "iteration 700 / 1500: loss inf\n",
      "iteration 800 / 1500: loss inf\n",
      "iteration 900 / 1500: loss inf\n",
      "iteration 1000 / 1500: loss inf\n",
      "iteration 1100 / 1500: loss inf\n",
      "iteration 1200 / 1500: loss inf\n",
      "iteration 1300 / 1500: loss inf\n",
      "iteration 1400 / 1500: loss inf\n",
      "iteration 0 / 1500: loss 2.386715822011908\n",
      "iteration 100 / 1500: loss inf\n",
      "iteration 200 / 1500: loss inf\n",
      "iteration 300 / 1500: loss inf\n",
      "iteration 400 / 1500: loss inf\n",
      "iteration 500 / 1500: loss inf\n",
      "iteration 600 / 1500: loss inf\n",
      "iteration 700 / 1500: loss inf\n",
      "iteration 800 / 1500: loss inf\n",
      "iteration 900 / 1500: loss inf\n",
      "iteration 1000 / 1500: loss inf\n",
      "iteration 1100 / 1500: loss inf\n",
      "iteration 1200 / 1500: loss inf\n",
      "iteration 1300 / 1500: loss inf\n",
      "iteration 1400 / 1500: loss inf\n",
      "iteration 0 / 1500: loss 2.3401372739660053\n",
      "iteration 100 / 1500: loss inf\n",
      "iteration 200 / 1500: loss 107.81292079522915\n",
      "iteration 300 / 1500: loss 137.24624627992992\n",
      "iteration 400 / 1500: loss 89.3166820685141\n",
      "iteration 500 / 1500: loss inf\n",
      "iteration 600 / 1500: loss 94.30864044761027\n",
      "iteration 700 / 1500: loss 78.56818347298075\n",
      "iteration 800 / 1500: loss inf\n",
      "iteration 900 / 1500: loss 95.13207224763242\n",
      "iteration 1000 / 1500: loss 71.71624407148965\n",
      "iteration 1100 / 1500: loss 91.71718871886428\n",
      "iteration 1200 / 1500: loss 70.14602071950367\n",
      "iteration 1300 / 1500: loss inf\n",
      "iteration 1400 / 1500: loss inf\n",
      "iteration 0 / 1500: loss 2.376584577102022\n",
      "iteration 100 / 1500: loss 13.455223564444022\n",
      "iteration 200 / 1500: loss 13.97950526203508\n",
      "iteration 300 / 1500: loss 11.385910717379547\n",
      "iteration 400 / 1500: loss 16.97761190035497\n",
      "iteration 500 / 1500: loss 12.298318270276027\n",
      "iteration 600 / 1500: loss 12.598124878990085\n",
      "iteration 700 / 1500: loss 11.451010899201306\n",
      "iteration 800 / 1500: loss 9.598220742912918\n",
      "iteration 900 / 1500: loss 12.96933973752371\n",
      "iteration 1000 / 1500: loss 10.849010490358994\n",
      "iteration 1100 / 1500: loss 16.528262677623765\n",
      "iteration 1200 / 1500: loss 9.573239664723403\n",
      "iteration 1300 / 1500: loss 15.619398491231564\n",
      "iteration 1400 / 1500: loss 13.814943452881979\n",
      "iteration 0 / 1500: loss 2.3773275051442138\n",
      "iteration 100 / 1500: loss 1.8954343521924897\n",
      "iteration 200 / 1500: loss 1.7470386087625434\n",
      "iteration 300 / 1500: loss 1.8685435625755105\n",
      "iteration 400 / 1500: loss 1.9126111836255444\n",
      "iteration 500 / 1500: loss 1.8114909309986935\n",
      "iteration 600 / 1500: loss 1.7660782050858217\n",
      "iteration 700 / 1500: loss 1.8902933377411473\n",
      "iteration 800 / 1500: loss 1.702616012358002\n",
      "iteration 900 / 1500: loss 1.9002133339033436\n",
      "iteration 1000 / 1500: loss 1.759320651622353\n",
      "iteration 1100 / 1500: loss 1.7117047346343657\n",
      "iteration 1200 / 1500: loss 1.732347063004439\n",
      "iteration 1300 / 1500: loss 1.8761418503952185\n",
      "iteration 1400 / 1500: loss 1.5229487580156587\n",
      "iteration 0 / 1500: loss 2.3373554628581275\n",
      "iteration 100 / 1500: loss 1.8562991811511416\n",
      "iteration 200 / 1500: loss 1.6865313203690124\n",
      "iteration 300 / 1500: loss 1.8842158359670436\n",
      "iteration 400 / 1500: loss 1.7923064028860163\n",
      "iteration 500 / 1500: loss 1.7679624014965447\n",
      "iteration 600 / 1500: loss 1.8493877603735274\n",
      "iteration 700 / 1500: loss 1.6901781040547825\n",
      "iteration 800 / 1500: loss 1.696579025393023\n",
      "iteration 900 / 1500: loss 1.8090652102143048\n",
      "iteration 1000 / 1500: loss 1.6968837852557448\n",
      "iteration 1100 / 1500: loss 2.042781931326515\n",
      "iteration 1200 / 1500: loss 1.64774205471232\n",
      "iteration 1300 / 1500: loss 1.7192739992889778\n",
      "iteration 1400 / 1500: loss 1.7031232431070287\n",
      "iteration 0 / 1500: loss 2.2785323950680327\n",
      "iteration 100 / 1500: loss 2.0309517929121323\n",
      "iteration 200 / 1500: loss 1.9927395959522471\n",
      "iteration 300 / 1500: loss 1.9521174943393276\n",
      "iteration 400 / 1500: loss 1.9839142265130578\n",
      "iteration 500 / 1500: loss 1.8049825235520318\n",
      "iteration 600 / 1500: loss 1.8379847480651599\n",
      "iteration 700 / 1500: loss 1.9463712921629501\n",
      "iteration 800 / 1500: loss 1.807352728942434\n",
      "iteration 900 / 1500: loss 1.8953352402177688\n",
      "iteration 1000 / 1500: loss 1.8690283906657594\n",
      "iteration 1100 / 1500: loss 1.8221250061335335\n",
      "iteration 1200 / 1500: loss 1.8375255046930767\n",
      "iteration 1300 / 1500: loss 1.8160840345182112\n",
      "iteration 1400 / 1500: loss 1.8425656702423225\n",
      "iteration 0 / 1500: loss 2.367767958709696\n",
      "iteration 100 / 1500: loss 2.3018901832513223\n",
      "iteration 200 / 1500: loss 2.278037516723764\n",
      "iteration 300 / 1500: loss 2.1687501100511515\n",
      "iteration 400 / 1500: loss 2.1868760923252433\n",
      "iteration 500 / 1500: loss 2.1386863811784025\n",
      "iteration 600 / 1500: loss 2.126028774410079\n",
      "iteration 700 / 1500: loss 2.1167903455050485\n",
      "iteration 800 / 1500: loss 2.088075655979844\n",
      "iteration 900 / 1500: loss 2.1295848234682713\n",
      "iteration 1000 / 1500: loss 2.0240100352219064\n",
      "iteration 1100 / 1500: loss 1.9886134396820625\n",
      "iteration 1200 / 1500: loss 1.9957192346159933\n",
      "iteration 1300 / 1500: loss 1.9792037079336473\n",
      "iteration 1400 / 1500: loss 1.9373951772281481\n",
      "Most optimal learning rate:  6.579332246575682e-07\n",
      "Best validation accuracy:  0.415\n"
     ]
    }
   ],
   "source": [
    "# ================================================================ #\n",
    "# YOUR CODE HERE:\n",
    "#   Train the Softmax classifier with different learning rates and \n",
    "#     evaluate on the validation data.\n",
    "#   Report:\n",
    "#     - The best learning rate of the ones you tested.  \n",
    "#     - The best validation accuracy corresponding to the best validation error.\n",
    "#\n",
    "#   Select the SVM that achieved the best validation error and report\n",
    "#     its error rate on the test set.\n",
    "# ================================================================ #\n",
    "learning_rates = np.linspace(2, -8, 12)\n",
    "learning_rates = 10**diff_learning_rates\n",
    "print(learning_rates)\n",
    "\n",
    "num_iters = 1500\n",
    "num_rates = len(learning_rates)\n",
    "loss_records = np.zeros((num_rates, num_iters), dtype=float)\n",
    "validations = np.zeros(num_rates, dtype=float)\n",
    "for i in range(num_rates):\n",
    "    loss_records[i] = softmax.train(X_train, y_train, learning_rate=learning_rates[i],\n",
    "                                    num_iters=num_iters, verbose=True)\n",
    "    y_pred = softmax.predict(X_val)\n",
    "    accuracy = np.mean(y_pred == y_val)\n",
    "    validations[i] = accuracy\n",
    "optimal_learning_rate = learning_rates[np.argmax(validations)]\n",
    "optimal_accuracy = validations[np.argmax(validations)]\n",
    "print(\"Most optimal learning rate: \", optimal_learning_rate)\n",
    "print(\"Best validation accuracy: \", optimal_accuracy)\n",
    "# ================================================================ #\n",
    "# END YOUR CODE HERE\n",
    "# ================================================================ #\n"
   ]
  },
  {
   "cell_type": "markdown",
   "metadata": {},
   "source": [
    "## Comments Regarding the Best Validation Error and Accuracy\n",
    "According to the output above, the best validation accuracy is when the learning rate is approximately 6.579332246575682e-07 out of the 12 different provided learning rates. The best validation accuracy corresponding to the optimal learning rate was 0.415."
   ]
  },
  {
   "cell_type": "code",
   "execution_count": null,
   "metadata": {},
   "outputs": [],
   "source": []
  }
 ],
 "metadata": {
  "kernelspec": {
   "display_name": "Python [conda env:base] *",
   "language": "python",
   "name": "conda-base-py"
  },
  "language_info": {
   "codemirror_mode": {
    "name": "ipython",
    "version": 3
   },
   "file_extension": ".py",
   "mimetype": "text/x-python",
   "name": "python",
   "nbconvert_exporter": "python",
   "pygments_lexer": "ipython3",
   "version": "3.12.2"
  }
 },
 "nbformat": 4,
 "nbformat_minor": 4
}
